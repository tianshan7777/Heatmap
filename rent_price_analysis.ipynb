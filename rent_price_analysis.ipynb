{
 "cells": [
  {
   "cell_type": "code",
   "execution_count": 2,
   "metadata": {},
   "outputs": [],
   "source": [
    "import pandas as pd\n",
    "import numpy as np"
   ]
  },
  {
   "cell_type": "code",
   "execution_count": 3,
   "metadata": {},
   "outputs": [],
   "source": [
    "#For plotting figures\n",
    "import matplotlib.pyplot as plt\n",
    "%matplotlib inline\n",
    "import seaborn as sns"
   ]
  },
  {
   "cell_type": "code",
   "execution_count": 4,
   "metadata": {},
   "outputs": [],
   "source": [
    "sns.set(style = \"whitegrid\", color_codes = True)\n",
    "sns.set(font_scale = 1)"
   ]
  },
  {
   "cell_type": "code",
   "execution_count": 5,
   "metadata": {},
   "outputs": [
    {
     "data": {
      "text/html": [
       "<div>\n",
       "<style scoped>\n",
       "    .dataframe tbody tr th:only-of-type {\n",
       "        vertical-align: middle;\n",
       "    }\n",
       "\n",
       "    .dataframe tbody tr th {\n",
       "        vertical-align: top;\n",
       "    }\n",
       "\n",
       "    .dataframe thead th {\n",
       "        text-align: right;\n",
       "    }\n",
       "</style>\n",
       "<table border=\"1\" class=\"dataframe\">\n",
       "  <thead>\n",
       "    <tr style=\"text-align: right;\">\n",
       "      <th></th>\n",
       "      <th>Price per month</th>\n",
       "      <th>District</th>\n",
       "      <th>Street</th>\n",
       "      <th>Size(sqm)</th>\n",
       "      <th>Number of rooms</th>\n",
       "      <th>Type of the building</th>\n",
       "      <th>Deposit</th>\n",
       "      <th>Utilities</th>\n",
       "      <th>Common cost</th>\n",
       "      <th>Number of separate rooms</th>\n",
       "      <th>...</th>\n",
       "      <th>American kitchen</th>\n",
       "      <th>Can be an office</th>\n",
       "      <th>Foreigners welcomed</th>\n",
       "      <th>Washing machine</th>\n",
       "      <th>Details</th>\n",
       "      <th>Area</th>\n",
       "      <th>Transportation</th>\n",
       "      <th>Near universities</th>\n",
       "      <th>Latitude</th>\n",
       "      <th>Longitude</th>\n",
       "    </tr>\n",
       "  </thead>\n",
       "  <tbody>\n",
       "    <tr>\n",
       "      <th>0</th>\n",
       "      <td>401</td>\n",
       "      <td>20</td>\n",
       "      <td>Hosszú utca</td>\n",
       "      <td>50</td>\n",
       "      <td>\\n                2 rooms                     ...</td>\n",
       "      <td>-1</td>\n",
       "      <td>-1</td>\n",
       "      <td>-1</td>\n",
       "      <td>-1</td>\n",
       "      <td>-1</td>\n",
       "      <td>...</td>\n",
       "      <td>-1</td>\n",
       "      <td>-1</td>\n",
       "      <td>-1</td>\n",
       "      <td>-1</td>\n",
       "      <td>-1</td>\n",
       "      <td>-1</td>\n",
       "      <td>-1</td>\n",
       "      <td>-1</td>\n",
       "      <td>-1.0</td>\n",
       "      <td>-1.0</td>\n",
       "    </tr>\n",
       "    <tr>\n",
       "      <th>1</th>\n",
       "      <td>494</td>\n",
       "      <td>14</td>\n",
       "      <td>Vezér utca</td>\n",
       "      <td>66</td>\n",
       "      <td>\\n                2 rooms                     ...</td>\n",
       "      <td>-1</td>\n",
       "      <td>-1</td>\n",
       "      <td>-1</td>\n",
       "      <td>-1</td>\n",
       "      <td>-1</td>\n",
       "      <td>...</td>\n",
       "      <td>-1</td>\n",
       "      <td>-1</td>\n",
       "      <td>-1</td>\n",
       "      <td>-1</td>\n",
       "      <td>-1</td>\n",
       "      <td>-1</td>\n",
       "      <td>-1</td>\n",
       "      <td>-1</td>\n",
       "      <td>-1.0</td>\n",
       "      <td>-1.0</td>\n",
       "    </tr>\n",
       "    <tr>\n",
       "      <th>2</th>\n",
       "      <td>771</td>\n",
       "      <td>5</td>\n",
       "      <td>Garibaldi utca</td>\n",
       "      <td>66</td>\n",
       "      <td>\\n                3 rooms                     ...</td>\n",
       "      <td>-1</td>\n",
       "      <td>-1</td>\n",
       "      <td>-1</td>\n",
       "      <td>-1</td>\n",
       "      <td>-1</td>\n",
       "      <td>...</td>\n",
       "      <td>-1</td>\n",
       "      <td>-1</td>\n",
       "      <td>-1</td>\n",
       "      <td>-1</td>\n",
       "      <td>-1</td>\n",
       "      <td>-1</td>\n",
       "      <td>-1</td>\n",
       "      <td>-1</td>\n",
       "      <td>-1.0</td>\n",
       "      <td>-1.0</td>\n",
       "    </tr>\n",
       "    <tr>\n",
       "      <th>3</th>\n",
       "      <td>401</td>\n",
       "      <td>6</td>\n",
       "      <td>Szív utca</td>\n",
       "      <td>30</td>\n",
       "      <td>\\n                1 room                      ...</td>\n",
       "      <td>-1</td>\n",
       "      <td>-1</td>\n",
       "      <td>-1</td>\n",
       "      <td>-1</td>\n",
       "      <td>-1</td>\n",
       "      <td>...</td>\n",
       "      <td>-1</td>\n",
       "      <td>-1</td>\n",
       "      <td>-1</td>\n",
       "      <td>-1</td>\n",
       "      <td>-1</td>\n",
       "      <td>-1</td>\n",
       "      <td>-1</td>\n",
       "      <td>-1</td>\n",
       "      <td>-1.0</td>\n",
       "      <td>-1.0</td>\n",
       "    </tr>\n",
       "    <tr>\n",
       "      <th>4</th>\n",
       "      <td>926</td>\n",
       "      <td>1</td>\n",
       "      <td>Alsóhegy utca</td>\n",
       "      <td>135</td>\n",
       "      <td>\\n                2 rooms                 + 2 ...</td>\n",
       "      <td>-1</td>\n",
       "      <td>-1</td>\n",
       "      <td>-1</td>\n",
       "      <td>-1</td>\n",
       "      <td>-1</td>\n",
       "      <td>...</td>\n",
       "      <td>-1</td>\n",
       "      <td>-1</td>\n",
       "      <td>-1</td>\n",
       "      <td>-1</td>\n",
       "      <td>-1</td>\n",
       "      <td>-1</td>\n",
       "      <td>-1</td>\n",
       "      <td>-1</td>\n",
       "      <td>-1.0</td>\n",
       "      <td>-1.0</td>\n",
       "    </tr>\n",
       "  </tbody>\n",
       "</table>\n",
       "<p>5 rows × 26 columns</p>\n",
       "</div>"
      ],
      "text/plain": [
       "   Price per month  District          Street  Size(sqm)  \\\n",
       "0              401        20     Hosszú utca         50   \n",
       "1              494        14      Vezér utca         66   \n",
       "2              771         5  Garibaldi utca         66   \n",
       "3              401         6       Szív utca         30   \n",
       "4              926         1   Alsóhegy utca        135   \n",
       "\n",
       "                                     Number of rooms Type of the building  \\\n",
       "0  \\n                2 rooms                     ...                   -1   \n",
       "1  \\n                2 rooms                     ...                   -1   \n",
       "2  \\n                3 rooms                     ...                   -1   \n",
       "3  \\n                1 room                      ...                   -1   \n",
       "4  \\n                2 rooms                 + 2 ...                   -1   \n",
       "\n",
       "   Deposit  Utilities  Common cost  Number of separate rooms    ...      \\\n",
       "0       -1         -1           -1                        -1    ...       \n",
       "1       -1         -1           -1                        -1    ...       \n",
       "2       -1         -1           -1                        -1    ...       \n",
       "3       -1         -1           -1                        -1    ...       \n",
       "4       -1         -1           -1                        -1    ...       \n",
       "\n",
       "  American kitchen Can be an office  Foreigners welcomed Washing machine  \\\n",
       "0               -1               -1                   -1              -1   \n",
       "1               -1               -1                   -1              -1   \n",
       "2               -1               -1                   -1              -1   \n",
       "3               -1               -1                   -1              -1   \n",
       "4               -1               -1                   -1              -1   \n",
       "\n",
       "  Details Area  Transportation Near universities Latitude  Longitude  \n",
       "0      -1   -1              -1                -1     -1.0       -1.0  \n",
       "1      -1   -1              -1                -1     -1.0       -1.0  \n",
       "2      -1   -1              -1                -1     -1.0       -1.0  \n",
       "3      -1   -1              -1                -1     -1.0       -1.0  \n",
       "4      -1   -1              -1                -1     -1.0       -1.0  \n",
       "\n",
       "[5 rows x 26 columns]"
      ]
     },
     "execution_count": 5,
     "metadata": {},
     "output_type": "execute_result"
    }
   ],
   "source": [
    "flats = pd.read_csv(\"albert.csv\")\n",
    "flats.head()"
   ]
  },
  {
   "cell_type": "code",
   "execution_count": 6,
   "metadata": {},
   "outputs": [
    {
     "data": {
      "text/plain": [
       "(2376, 26)"
      ]
     },
     "execution_count": 6,
     "metadata": {},
     "output_type": "execute_result"
    }
   ],
   "source": [
    "#shape command gives the num ber of rows(samples)/columns(features) in dataset\n",
    "flats.shape"
   ]
  },
  {
   "cell_type": "code",
   "execution_count": 7,
   "metadata": {},
   "outputs": [
    {
     "data": {
      "text/html": [
       "<div>\n",
       "<style scoped>\n",
       "    .dataframe tbody tr th:only-of-type {\n",
       "        vertical-align: middle;\n",
       "    }\n",
       "\n",
       "    .dataframe tbody tr th {\n",
       "        vertical-align: top;\n",
       "    }\n",
       "\n",
       "    .dataframe thead th {\n",
       "        text-align: right;\n",
       "    }\n",
       "</style>\n",
       "<table border=\"1\" class=\"dataframe\">\n",
       "  <thead>\n",
       "    <tr style=\"text-align: right;\">\n",
       "      <th></th>\n",
       "      <th>Price per month</th>\n",
       "      <th>District</th>\n",
       "      <th>Size(sqm)</th>\n",
       "      <th>Deposit</th>\n",
       "      <th>Utilities</th>\n",
       "      <th>Common cost</th>\n",
       "      <th>Number of separate rooms</th>\n",
       "      <th>Balconies</th>\n",
       "      <th>American kitchen</th>\n",
       "      <th>Washing machine</th>\n",
       "      <th>Latitude</th>\n",
       "      <th>Longitude</th>\n",
       "    </tr>\n",
       "  </thead>\n",
       "  <tbody>\n",
       "    <tr>\n",
       "      <th>count</th>\n",
       "      <td>2376.000000</td>\n",
       "      <td>2376.000000</td>\n",
       "      <td>2376.000000</td>\n",
       "      <td>2376.000000</td>\n",
       "      <td>2376.000000</td>\n",
       "      <td>2376.000000</td>\n",
       "      <td>2376.000000</td>\n",
       "      <td>2376.0</td>\n",
       "      <td>2376.000000</td>\n",
       "      <td>2376.000000</td>\n",
       "      <td>2376.000000</td>\n",
       "      <td>2376.000000</td>\n",
       "    </tr>\n",
       "    <tr>\n",
       "      <th>mean</th>\n",
       "      <td>664.265572</td>\n",
       "      <td>8.321970</td>\n",
       "      <td>61.275673</td>\n",
       "      <td>1265.202020</td>\n",
       "      <td>118.077441</td>\n",
       "      <td>45.138889</td>\n",
       "      <td>0.517256</td>\n",
       "      <td>-1.0</td>\n",
       "      <td>-0.646465</td>\n",
       "      <td>-0.730640</td>\n",
       "      <td>44.951504</td>\n",
       "      <td>18.094623</td>\n",
       "    </tr>\n",
       "    <tr>\n",
       "      <th>std</th>\n",
       "      <td>433.217896</td>\n",
       "      <td>4.262576</td>\n",
       "      <td>28.713572</td>\n",
       "      <td>940.651185</td>\n",
       "      <td>1071.416006</td>\n",
       "      <td>82.346130</td>\n",
       "      <td>1.548553</td>\n",
       "      <td>0.0</td>\n",
       "      <td>0.763105</td>\n",
       "      <td>0.682907</td>\n",
       "      <td>10.758141</td>\n",
       "      <td>5.497249</td>\n",
       "    </tr>\n",
       "    <tr>\n",
       "      <th>min</th>\n",
       "      <td>3.000000</td>\n",
       "      <td>1.000000</td>\n",
       "      <td>16.000000</td>\n",
       "      <td>-1.000000</td>\n",
       "      <td>-1.000000</td>\n",
       "      <td>-1.000000</td>\n",
       "      <td>-1.000000</td>\n",
       "      <td>-1.0</td>\n",
       "      <td>-1.000000</td>\n",
       "      <td>-1.000000</td>\n",
       "      <td>-1.000000</td>\n",
       "      <td>-1.000000</td>\n",
       "    </tr>\n",
       "    <tr>\n",
       "      <th>25%</th>\n",
       "      <td>432.000000</td>\n",
       "      <td>5.000000</td>\n",
       "      <td>42.000000</td>\n",
       "      <td>802.000000</td>\n",
       "      <td>43.000000</td>\n",
       "      <td>28.000000</td>\n",
       "      <td>-1.000000</td>\n",
       "      <td>-1.0</td>\n",
       "      <td>-1.000000</td>\n",
       "      <td>-1.000000</td>\n",
       "      <td>47.485070</td>\n",
       "      <td>19.038367</td>\n",
       "    </tr>\n",
       "    <tr>\n",
       "      <th>50%</th>\n",
       "      <td>525.000000</td>\n",
       "      <td>8.000000</td>\n",
       "      <td>54.000000</td>\n",
       "      <td>987.000000</td>\n",
       "      <td>62.000000</td>\n",
       "      <td>34.000000</td>\n",
       "      <td>0.000000</td>\n",
       "      <td>-1.0</td>\n",
       "      <td>-1.000000</td>\n",
       "      <td>-1.000000</td>\n",
       "      <td>47.502649</td>\n",
       "      <td>19.059609</td>\n",
       "    </tr>\n",
       "    <tr>\n",
       "      <th>75%</th>\n",
       "      <td>741.000000</td>\n",
       "      <td>12.000000</td>\n",
       "      <td>72.000000</td>\n",
       "      <td>1472.750000</td>\n",
       "      <td>77.000000</td>\n",
       "      <td>49.000000</td>\n",
       "      <td>2.000000</td>\n",
       "      <td>-1.0</td>\n",
       "      <td>-1.000000</td>\n",
       "      <td>-1.000000</td>\n",
       "      <td>47.514446</td>\n",
       "      <td>19.076159</td>\n",
       "    </tr>\n",
       "    <tr>\n",
       "      <th>max</th>\n",
       "      <td>5558.000000</td>\n",
       "      <td>23.000000</td>\n",
       "      <td>300.000000</td>\n",
       "      <td>12000.000000</td>\n",
       "      <td>27773.000000</td>\n",
       "      <td>2623.000000</td>\n",
       "      <td>6.000000</td>\n",
       "      <td>-1.0</td>\n",
       "      <td>1.000000</td>\n",
       "      <td>1.000000</td>\n",
       "      <td>47.602621</td>\n",
       "      <td>180.000000</td>\n",
       "    </tr>\n",
       "  </tbody>\n",
       "</table>\n",
       "</div>"
      ],
      "text/plain": [
       "       Price per month     District    Size(sqm)       Deposit     Utilities  \\\n",
       "count      2376.000000  2376.000000  2376.000000   2376.000000   2376.000000   \n",
       "mean        664.265572     8.321970    61.275673   1265.202020    118.077441   \n",
       "std         433.217896     4.262576    28.713572    940.651185   1071.416006   \n",
       "min           3.000000     1.000000    16.000000     -1.000000     -1.000000   \n",
       "25%         432.000000     5.000000    42.000000    802.000000     43.000000   \n",
       "50%         525.000000     8.000000    54.000000    987.000000     62.000000   \n",
       "75%         741.000000    12.000000    72.000000   1472.750000     77.000000   \n",
       "max        5558.000000    23.000000   300.000000  12000.000000  27773.000000   \n",
       "\n",
       "       Common cost  Number of separate rooms  Balconies  American kitchen  \\\n",
       "count  2376.000000               2376.000000     2376.0       2376.000000   \n",
       "mean     45.138889                  0.517256       -1.0         -0.646465   \n",
       "std      82.346130                  1.548553        0.0          0.763105   \n",
       "min      -1.000000                 -1.000000       -1.0         -1.000000   \n",
       "25%      28.000000                 -1.000000       -1.0         -1.000000   \n",
       "50%      34.000000                  0.000000       -1.0         -1.000000   \n",
       "75%      49.000000                  2.000000       -1.0         -1.000000   \n",
       "max    2623.000000                  6.000000       -1.0          1.000000   \n",
       "\n",
       "       Washing machine     Latitude    Longitude  \n",
       "count      2376.000000  2376.000000  2376.000000  \n",
       "mean         -0.730640    44.951504    18.094623  \n",
       "std           0.682907    10.758141     5.497249  \n",
       "min          -1.000000    -1.000000    -1.000000  \n",
       "25%          -1.000000    47.485070    19.038367  \n",
       "50%          -1.000000    47.502649    19.059609  \n",
       "75%          -1.000000    47.514446    19.076159  \n",
       "max           1.000000    47.602621   180.000000  "
      ]
     },
     "execution_count": 7,
     "metadata": {},
     "output_type": "execute_result"
    }
   ],
   "source": [
    "#describe() gives statistical information about numerical columns in the dataset\n",
    "flats.describe()"
   ]
  },
  {
   "cell_type": "code",
   "execution_count": 10,
   "metadata": {},
   "outputs": [
    {
     "data": {
      "text/plain": [
       "Price per month             1.000000\n",
       "Deposit                     0.887050\n",
       "Size(sqm)                   0.758216\n",
       "Number of separate rooms    0.206317\n",
       "Longitude                  -0.032884\n",
       "Common cost                 0.125707\n",
       "Balconies                        NaN\n",
       "American kitchen            0.064995\n",
       "Utilities                  -0.022871\n",
       "Washing machine             0.058158\n",
       "Latitude                   -0.030858\n",
       "District                   -0.253048\n",
       "Name: Price per month, dtype: float64"
      ]
     },
     "execution_count": 10,
     "metadata": {},
     "output_type": "execute_result"
    }
   ],
   "source": [
    "#Show the correlations between \"Price per month\"(dependent variable) and other independent variables \n",
    "corr = flats.corr()[\"Price per month\"]\n",
    "#Rearrange the display (from low correlation to high correlation)\n",
    "corr[np.argsort(corr, axis = 0)[::-1]]"
   ]
  },
  {
   "cell_type": "code",
   "execution_count": 25,
   "metadata": {},
   "outputs": [
    {
     "data": {
      "text/plain": [
       "Text(0.5, 1.0, 'Correlation Coefficients w.r.t Sale Price')"
      ]
     },
     "execution_count": 25,
     "metadata": {},
     "output_type": "execute_result"
    },
    {
     "data": {
      "image/png": "[encoded data removed]",
      "text/plain": [
       "<Figure size 864x1080 with 1 Axes>"
      ]
     },
     "metadata": {},
     "output_type": "display_data"
    }
   ],
   "source": [
    "#Visualise correlations\n",
    "\n",
    "#Filter out all the variables containing strings \n",
    "num_feat = flats.columns[flats.dtypes!=object]\n",
    "#find the column numbers we need\n",
    "num_feat = num_feat[1:-1]\n",
    "\n",
    "labels = []\n",
    "values = []\n",
    "for col in num_feat:\n",
    "    labels.append(col)\n",
    "    # .corrcoef returns Pearson product-moment correlation coefficients.\n",
    "    values.append(np.corrcoef(flats[col].values,flats[\"Price per month\"].values)[0,1])\n",
    "    \n",
    "ind = np.arange(len(labels))\n",
    "width = 0.9\n",
    "fig, ax = plt.subplots(figsize = (12,15))\n",
    "#.barh for a horizontal bar\n",
    "rexts = ax.barh(ind, np.array(values), color = \"red\")\n",
    "ax.set_yticks(ind+((width)/2.))\n",
    "ax.set_yticklabels(labels, rotation = \"horizontal\")\n",
    "ax.set_xlabel(\"Correlation coefficient\")\n",
    "ax.set_title(\"Correlation Coefficients w.r.t Sale Price\")"
   ]
  },
  {
   "cell_type": "code",
   "execution_count": 26,
   "metadata": {},
   "outputs": [
    {
     "data": {
      "text/plain": [
       "<matplotlib.collections.PathCollection at 0x113b3eb38>"
      ]
     },
     "execution_count": 26,
     "metadata": {},
     "output_type": "execute_result"
    },
    {
     "data": {
      "image/png": "[encoded data removed]",
      "text/plain": [
       "<Figure size 432x288 with 1 Axes>"
      ]
     },
     "metadata": {},
     "output_type": "display_data"
    }
   ],
   "source": [
    "#Plot scatter graphs\n",
    "plt.scatter(flats[\"Size(sqm)\"], flats[\"Price per month\"])"
   ]
  },
  {
   "cell_type": "code",
   "execution_count": 28,
   "metadata": {},
   "outputs": [
    {
     "data": {
      "text/plain": [
       "<matplotlib.collections.PathCollection at 0x114047f60>"
      ]
     },
     "execution_count": 28,
     "metadata": {},
     "output_type": "execute_result"
    },
    {
     "data": {
      "image/png": "[encoded data removed]",
      "text/plain": [
       "<Figure size 432x288 with 1 Axes>"
      ]
     },
     "metadata": {},
     "output_type": "display_data"
    }
   ],
   "source": [
    "plt.scatter(flats[\"Number of separate rooms\"], flats[\"Price per month\"])"
   ]
  },
  {
   "cell_type": "code",
   "execution_count": 29,
   "metadata": {},
   "outputs": [
    {
     "data": {
      "text/plain": [
       "<matplotlib.collections.PathCollection at 0x113ec13c8>"
      ]
     },
     "execution_count": 29,
     "metadata": {},
     "output_type": "execute_result"
    },
    {
     "data": {
      "image/png": "[encoded data removed]",
      "text/plain": [
       "<Figure size 432x288 with 1 Axes>"
      ]
     },
     "metadata": {},
     "output_type": "display_data"
    }
   ],
   "source": [
    "plt.scatter(flats[\"Utilities\"], flats[\"Price per month\"])"
   ]
  },
  {
   "cell_type": "code",
   "execution_count": 30,
   "metadata": {},
   "outputs": [
    {
     "data": {
      "text/plain": [
       "<matplotlib.collections.PathCollection at 0x11414b320>"
      ]
     },
     "execution_count": 30,
     "metadata": {},
     "output_type": "execute_result"
    },
    {
     "data": {
      "image/png": "[encoded data removed]",
      "text/plain": [
       "<Figure size 432x288 with 1 Axes>"
      ]
     },
     "metadata": {},
     "output_type": "display_data"
    }
   ],
   "source": [
    "plt.scatter(flats[\"Common cost\"], flats[\"Price per month\"])"
   ]
  },
  {
   "cell_type": "code",
   "execution_count": 32,
   "metadata": {},
   "outputs": [
    {
     "data": {
      "text/plain": [
       "<matplotlib.collections.PathCollection at 0x1141c78d0>"
      ]
     },
     "execution_count": 32,
     "metadata": {},
     "output_type": "execute_result"
    },
    {
     "data": {
      "image/png": "[encoded data removed]",
      "text/plain": [
       "<Figure size 432x288 with 1 Axes>"
      ]
     },
     "metadata": {},
     "output_type": "display_data"
    }
   ],
   "source": [
    "#Here we set price per month as our independent variable\n",
    "plt.scatter(flats[\"Price per month\"], flats[\"Deposit\"])"
   ]
  },
  {
   "cell_type": "code",
   "execution_count": 33,
   "metadata": {},
   "outputs": [
    {
     "data": {
      "text/plain": [
       "<matplotlib.collections.PathCollection at 0x1142d4630>"
      ]
     },
     "execution_count": 33,
     "metadata": {},
     "output_type": "execute_result"
    },
    {
     "data": {
      "image/png": "[encoded data removed]",
      "text/plain": [
       "<Figure size 432x288 with 1 Axes>"
      ]
     },
     "metadata": {},
     "output_type": "display_data"
    }
   ],
   "source": [
    "plt.scatter(flats[\"District\"], flats[\"Price per month\"])"
   ]
  },
  {
   "cell_type": "code",
   "execution_count": null,
   "metadata": {},
   "outputs": [],
   "source": []
  },
  {
   "cell_type": "code",
   "execution_count": null,
   "metadata": {},
   "outputs": [],
   "source": []
  },
  {
   "cell_type": "code",
   "execution_count": null,
   "metadata": {},
   "outputs": [],
   "source": []
  },
  {
   "cell_type": "code",
   "execution_count": null,
   "metadata": {},
   "outputs": [],
   "source": []
  },
  {
   "cell_type": "code",
   "execution_count": null,
   "metadata": {},
   "outputs": [],
   "source": []
  },
  {
   "cell_type": "code",
   "execution_count": null,
   "metadata": {},
   "outputs": [],
   "source": []
  },
  {
   "cell_type": "code",
   "execution_count": null,
   "metadata": {},
   "outputs": [],
   "source": []
  },
  {
   "cell_type": "code",
   "execution_count": null,
   "metadata": {},
   "outputs": [],
   "source": []
  },
  {
   "cell_type": "code",
   "execution_count": null,
   "metadata": {},
   "outputs": [],
   "source": []
  },
  {
   "cell_type": "code",
   "execution_count": null,
   "metadata": {},
   "outputs": [],
   "source": []
  },
  {
   "cell_type": "code",
   "execution_count": null,
   "metadata": {},
   "outputs": [],
   "source": []
  },
  {
   "cell_type": "code",
   "execution_count": null,
   "metadata": {},
   "outputs": [],
   "source": []
  },
  {
   "cell_type": "code",
   "execution_count": null,
   "metadata": {},
   "outputs": [],
   "source": []
  },
  {
   "cell_type": "code",
   "execution_count": null,
   "metadata": {},
   "outputs": [],
   "source": []
  },
  {
   "cell_type": "code",
   "execution_count": null,
   "metadata": {},
   "outputs": [],
   "source": []
  },
  {
   "cell_type": "code",
   "execution_count": null,
   "metadata": {},
   "outputs": [],
   "source": []
  },
  {
   "cell_type": "code",
   "execution_count": null,
   "metadata": {},
   "outputs": [],
   "source": []
  },
  {
   "cell_type": "code",
   "execution_count": null,
   "metadata": {},
   "outputs": [],
   "source": []
  },
  {
   "cell_type": "code",
   "execution_count": null,
   "metadata": {},
   "outputs": [],
   "source": []
  }
 ],
 "metadata": {
  "kernelspec": {
   "display_name": "Python 3",
   "language": "python",
   "name": "python3"
  },
  "language_info": {
   "codemirror_mode": {
    "name": "ipython",
    "version": 3
   },
   "file_extension": ".py",
   "mimetype": "text/x-python",
   "name": "python",
   "nbconvert_exporter": "python",
   "pygments_lexer": "ipython3",
   "version": "3.7.0"
  }
 },
 "nbformat": 4,
 "nbformat_minor": 2
}
